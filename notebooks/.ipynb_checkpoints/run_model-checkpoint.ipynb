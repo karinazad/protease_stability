{
 "cells": [
  {
   "cell_type": "code",
   "execution_count": 190,
   "id": "western-ceremony",
   "metadata": {},
   "outputs": [
    {
     "name": "stdout",
     "output_type": "stream",
     "text": [
      "The autoreload extension is already loaded. To reload it, use:\n",
      "  %reload_ext autoreload\n"
     ]
    }
   ],
   "source": [
    "%load_ext autoreload\n",
    "%autoreload 2\n",
    "\n",
    "import os \n",
    "import sys\n",
    "\n",
    "ROOT_PATH = os.path.dirname(os.getcwd())\n",
    "sys.path.append(ROOT_PATH)\n",
    "\n",
    "from src.evals.run_model import run_model, build_model"
   ]
  },
  {
   "cell_type": "markdown",
   "id": "diverse-theme",
   "metadata": {},
   "source": [
    "### Custom Config"
   ]
  },
  {
   "cell_type": "code",
   "execution_count": 191,
   "id": "eastern-israel",
   "metadata": {},
   "outputs": [],
   "source": [
    "DATA_PATH = os.path.join(ROOT_PATH,\n",
    "                         \"data/210728_scrambles_for_unstructure_model.csv\")"
   ]
  },
  {
   "cell_type": "code",
   "execution_count": 194,
   "id": "front-brass",
   "metadata": {},
   "outputs": [],
   "source": [
    "from tensorflow.keras import layers\n",
    "import tensorflow as tf\n",
    "\n",
    "\n",
    "class ProtConvNet2D(tf.keras.Model):\n",
    "\n",
    "    def __init__(\n",
    "            self,\n",
    "            num_char,\n",
    "            seq_length,\n",
    "            num_conv_layers: int = 2,\n",
    "            kernel_size: int = 3,\n",
    "            strides: int = 1,\n",
    "            target_names=None,\n",
    "            **kwargs,\n",
    "    ):\n",
    "        super(ProtConvNet2D, self).__init__(name=\"ProtConvNet2D\")\n",
    "\n",
    "        if target_names is None:\n",
    "            target_names = (\"Target_1\", \"Target_2\")\n",
    "\n",
    "        filter_sizes = [256, 128, 64, 32, 16]\n",
    "        assert num_conv_layers < len(filter_sizes) - 1\n",
    "\n",
    "        self.one_hot_layer = layers.Lambda(tf.one_hot,\n",
    "                                           arguments={'depth': num_char},\n",
    "                                           output_shape=num_char)\n",
    "        self.expand_dim_layer = layers.Lambda(tf.expand_dims,\n",
    "                                              arguments={\"axis\": 3})\n",
    "        self.conv_layers = [\n",
    "            layers.Conv2D(filters=filter_sizes[i],\n",
    "                          kernel_size=(kernel_size, kernel_size),\n",
    "                          input_shape=(seq_length, num_char, 1),\n",
    "                          strides=strides,\n",
    "                          activation=\"relu\")\n",
    "            for i in range(num_conv_layers)\n",
    "        ]\n",
    "        self.maxpool_layer = layers.MaxPooling2D((2, 2))\n",
    "        self.flatten = layers.Flatten()\n",
    "        self.dense1 = layers.Dense(256, activation='relu')\n",
    "        self.dense2 = layers.Dense(64, activation='relu')\n",
    "        self.output_layer1 = layers.Dense(1, name=target_names[0])\n",
    "        self.output_layer2 = layers.Dense(1, name=target_names[1])\n",
    "\n",
    "    def call(self, inputs, training=None, mask=None):\n",
    "\n",
    "        x = self.one_hot_layer(inputs)\n",
    "        x = self.expand_dim_layer(x)\n",
    "\n",
    "        for layer in self.conv_layers:\n",
    "            x = layer(x)\n",
    "            x = self.maxpool_layer(x)\n",
    "\n",
    "        x = self.flatten(x)\n",
    "        x = self.dense1(x)\n",
    "        x = self.dense2(x)\n",
    "\n",
    "        output1 = self.output_layer1(x)\n",
    "        output2 = self.output_layer2(x)\n",
    "\n",
    "        return [output1, output2]"
   ]
  },
  {
   "cell_type": "code",
   "execution_count": 197,
   "id": "lyric-confusion",
   "metadata": {
    "collapsed": true
   },
   "outputs": [
    {
     "name": "stdout",
     "output_type": "stream",
     "text": [
      "{'num_char': 19, 'seq_length': 72, 'target_names': ['Trypsin', 'Chemotrypsin'], 'strides': 1, 'padding': 'causal', 'num_filters': 256, 'num_conv_layers': 1, 'kernel_size': 12, 'embdedding_output_dim': 64}\n",
      "Epoch 1/7\n",
      " 77/446 [====>.........................] - ETA: 2:03 - loss: 1.9494 - output_1_loss: 0.9407 - output_2_loss: 1.0088 - output_1_mse: 0.9407 - output_2_mse: 1.0088"
     ]
    },
    {
     "ename": "KeyboardInterrupt",
     "evalue": "",
     "output_type": "error",
     "traceback": [
      "\u001b[0;31m---------------------------------------------------------------------------\u001b[0m",
      "\u001b[0;31mKeyboardInterrupt\u001b[0m                         Traceback (most recent call last)",
      "\u001b[0;32m<ipython-input-197-ea29dcbcace0>\u001b[0m in \u001b[0;36m<module>\u001b[0;34m\u001b[0m\n\u001b[0;32m----> 1\u001b[0;31m \u001b[0mmodel\u001b[0m\u001b[0;34m,\u001b[0m \u001b[0mhistory\u001b[0m \u001b[0;34m=\u001b[0m \u001b[0mrun_model\u001b[0m\u001b[0;34m(\u001b[0m\u001b[0mdata_path\u001b[0m \u001b[0;34m=\u001b[0m \u001b[0mDATA_PATH\u001b[0m\u001b[0;34m,\u001b[0m \u001b[0mmodel_type\u001b[0m \u001b[0;34m=\u001b[0m \u001b[0;34m\"convnet_2d\"\u001b[0m\u001b[0;34m)\u001b[0m\u001b[0;34m\u001b[0m\u001b[0;34m\u001b[0m\u001b[0m\n\u001b[0m",
      "\u001b[0;32m~/Desktop/protease_stability/src/evals/run_model.py\u001b[0m in \u001b[0;36mrun_model\u001b[0;34m(data_path, model_type)\u001b[0m\n\u001b[1;32m     59\u001b[0m     history = model.fit(X_train, [y1_train, y2_train],\n\u001b[1;32m     60\u001b[0m                         \u001b[0mepochs\u001b[0m\u001b[0;34m=\u001b[0m\u001b[0mepochs\u001b[0m\u001b[0;34m,\u001b[0m\u001b[0;34m\u001b[0m\u001b[0;34m\u001b[0m\u001b[0m\n\u001b[0;32m---> 61\u001b[0;31m                         batch_size=128)\n\u001b[0m\u001b[1;32m     62\u001b[0m \u001b[0;34m\u001b[0m\u001b[0m\n\u001b[1;32m     63\u001b[0m     \u001b[0mloss\u001b[0m\u001b[0;34m,\u001b[0m \u001b[0my1_loss\u001b[0m\u001b[0;34m,\u001b[0m \u001b[0my2_loss\u001b[0m\u001b[0;34m,\u001b[0m \u001b[0m_\u001b[0m\u001b[0;34m,\u001b[0m \u001b[0m_\u001b[0m \u001b[0;34m=\u001b[0m \u001b[0mmodel\u001b[0m\u001b[0;34m.\u001b[0m\u001b[0mevaluate\u001b[0m\u001b[0;34m(\u001b[0m\u001b[0mX_test\u001b[0m\u001b[0;34m,\u001b[0m \u001b[0;34m[\u001b[0m\u001b[0my1_test\u001b[0m\u001b[0;34m,\u001b[0m \u001b[0my2_test\u001b[0m\u001b[0;34m]\u001b[0m\u001b[0;34m)\u001b[0m\u001b[0;34m\u001b[0m\u001b[0;34m\u001b[0m\u001b[0m\n",
      "\u001b[0;32m/opt/anaconda3/envs/tf2env/lib/python3.7/site-packages/tensorflow/python/keras/engine/training.py\u001b[0m in \u001b[0;36mfit\u001b[0;34m(self, x, y, batch_size, epochs, verbose, callbacks, validation_split, validation_data, shuffle, class_weight, sample_weight, initial_epoch, steps_per_epoch, validation_steps, validation_batch_size, validation_freq, max_queue_size, workers, use_multiprocessing)\u001b[0m\n\u001b[1;32m   1181\u001b[0m                 _r=1):\n\u001b[1;32m   1182\u001b[0m               \u001b[0mcallbacks\u001b[0m\u001b[0;34m.\u001b[0m\u001b[0mon_train_batch_begin\u001b[0m\u001b[0;34m(\u001b[0m\u001b[0mstep\u001b[0m\u001b[0;34m)\u001b[0m\u001b[0;34m\u001b[0m\u001b[0;34m\u001b[0m\u001b[0m\n\u001b[0;32m-> 1183\u001b[0;31m               \u001b[0mtmp_logs\u001b[0m \u001b[0;34m=\u001b[0m \u001b[0mself\u001b[0m\u001b[0;34m.\u001b[0m\u001b[0mtrain_function\u001b[0m\u001b[0;34m(\u001b[0m\u001b[0miterator\u001b[0m\u001b[0;34m)\u001b[0m\u001b[0;34m\u001b[0m\u001b[0;34m\u001b[0m\u001b[0m\n\u001b[0m\u001b[1;32m   1184\u001b[0m               \u001b[0;32mif\u001b[0m \u001b[0mdata_handler\u001b[0m\u001b[0;34m.\u001b[0m\u001b[0mshould_sync\u001b[0m\u001b[0;34m:\u001b[0m\u001b[0;34m\u001b[0m\u001b[0;34m\u001b[0m\u001b[0m\n\u001b[1;32m   1185\u001b[0m                 \u001b[0mcontext\u001b[0m\u001b[0;34m.\u001b[0m\u001b[0masync_wait\u001b[0m\u001b[0;34m(\u001b[0m\u001b[0;34m)\u001b[0m\u001b[0;34m\u001b[0m\u001b[0;34m\u001b[0m\u001b[0m\n",
      "\u001b[0;32m/opt/anaconda3/envs/tf2env/lib/python3.7/site-packages/tensorflow/python/eager/def_function.py\u001b[0m in \u001b[0;36m__call__\u001b[0;34m(self, *args, **kwds)\u001b[0m\n\u001b[1;32m    887\u001b[0m \u001b[0;34m\u001b[0m\u001b[0m\n\u001b[1;32m    888\u001b[0m       \u001b[0;32mwith\u001b[0m \u001b[0mOptionalXlaContext\u001b[0m\u001b[0;34m(\u001b[0m\u001b[0mself\u001b[0m\u001b[0;34m.\u001b[0m\u001b[0m_jit_compile\u001b[0m\u001b[0;34m)\u001b[0m\u001b[0;34m:\u001b[0m\u001b[0;34m\u001b[0m\u001b[0;34m\u001b[0m\u001b[0m\n\u001b[0;32m--> 889\u001b[0;31m         \u001b[0mresult\u001b[0m \u001b[0;34m=\u001b[0m \u001b[0mself\u001b[0m\u001b[0;34m.\u001b[0m\u001b[0m_call\u001b[0m\u001b[0;34m(\u001b[0m\u001b[0;34m*\u001b[0m\u001b[0margs\u001b[0m\u001b[0;34m,\u001b[0m \u001b[0;34m**\u001b[0m\u001b[0mkwds\u001b[0m\u001b[0;34m)\u001b[0m\u001b[0;34m\u001b[0m\u001b[0;34m\u001b[0m\u001b[0m\n\u001b[0m\u001b[1;32m    890\u001b[0m \u001b[0;34m\u001b[0m\u001b[0m\n\u001b[1;32m    891\u001b[0m       \u001b[0mnew_tracing_count\u001b[0m \u001b[0;34m=\u001b[0m \u001b[0mself\u001b[0m\u001b[0;34m.\u001b[0m\u001b[0mexperimental_get_tracing_count\u001b[0m\u001b[0;34m(\u001b[0m\u001b[0;34m)\u001b[0m\u001b[0;34m\u001b[0m\u001b[0;34m\u001b[0m\u001b[0m\n",
      "\u001b[0;32m/opt/anaconda3/envs/tf2env/lib/python3.7/site-packages/tensorflow/python/eager/def_function.py\u001b[0m in \u001b[0;36m_call\u001b[0;34m(self, *args, **kwds)\u001b[0m\n\u001b[1;32m    915\u001b[0m       \u001b[0;31m# In this case we have created variables on the first call, so we run the\u001b[0m\u001b[0;34m\u001b[0m\u001b[0;34m\u001b[0m\u001b[0;34m\u001b[0m\u001b[0m\n\u001b[1;32m    916\u001b[0m       \u001b[0;31m# defunned version which is guaranteed to never create variables.\u001b[0m\u001b[0;34m\u001b[0m\u001b[0;34m\u001b[0m\u001b[0;34m\u001b[0m\u001b[0m\n\u001b[0;32m--> 917\u001b[0;31m       \u001b[0;32mreturn\u001b[0m \u001b[0mself\u001b[0m\u001b[0;34m.\u001b[0m\u001b[0m_stateless_fn\u001b[0m\u001b[0;34m(\u001b[0m\u001b[0;34m*\u001b[0m\u001b[0margs\u001b[0m\u001b[0;34m,\u001b[0m \u001b[0;34m**\u001b[0m\u001b[0mkwds\u001b[0m\u001b[0;34m)\u001b[0m  \u001b[0;31m# pylint: disable=not-callable\u001b[0m\u001b[0;34m\u001b[0m\u001b[0;34m\u001b[0m\u001b[0m\n\u001b[0m\u001b[1;32m    918\u001b[0m     \u001b[0;32melif\u001b[0m \u001b[0mself\u001b[0m\u001b[0;34m.\u001b[0m\u001b[0m_stateful_fn\u001b[0m \u001b[0;32mis\u001b[0m \u001b[0;32mnot\u001b[0m \u001b[0;32mNone\u001b[0m\u001b[0;34m:\u001b[0m\u001b[0;34m\u001b[0m\u001b[0;34m\u001b[0m\u001b[0m\n\u001b[1;32m    919\u001b[0m       \u001b[0;31m# Release the lock early so that multiple threads can perform the call\u001b[0m\u001b[0;34m\u001b[0m\u001b[0;34m\u001b[0m\u001b[0;34m\u001b[0m\u001b[0m\n",
      "\u001b[0;32m/opt/anaconda3/envs/tf2env/lib/python3.7/site-packages/tensorflow/python/eager/function.py\u001b[0m in \u001b[0;36m__call__\u001b[0;34m(self, *args, **kwargs)\u001b[0m\n\u001b[1;32m   3022\u001b[0m        filtered_flat_args) = self._maybe_define_function(args, kwargs)\n\u001b[1;32m   3023\u001b[0m     return graph_function._call_flat(\n\u001b[0;32m-> 3024\u001b[0;31m         filtered_flat_args, captured_inputs=graph_function.captured_inputs)  # pylint: disable=protected-access\n\u001b[0m\u001b[1;32m   3025\u001b[0m \u001b[0;34m\u001b[0m\u001b[0m\n\u001b[1;32m   3026\u001b[0m   \u001b[0;34m@\u001b[0m\u001b[0mproperty\u001b[0m\u001b[0;34m\u001b[0m\u001b[0;34m\u001b[0m\u001b[0m\n",
      "\u001b[0;32m/opt/anaconda3/envs/tf2env/lib/python3.7/site-packages/tensorflow/python/eager/function.py\u001b[0m in \u001b[0;36m_call_flat\u001b[0;34m(self, args, captured_inputs, cancellation_manager)\u001b[0m\n\u001b[1;32m   1959\u001b[0m       \u001b[0;31m# No tape is watching; skip to running the function.\u001b[0m\u001b[0;34m\u001b[0m\u001b[0;34m\u001b[0m\u001b[0;34m\u001b[0m\u001b[0m\n\u001b[1;32m   1960\u001b[0m       return self._build_call_outputs(self._inference_function.call(\n\u001b[0;32m-> 1961\u001b[0;31m           ctx, args, cancellation_manager=cancellation_manager))\n\u001b[0m\u001b[1;32m   1962\u001b[0m     forward_backward = self._select_forward_and_backward_functions(\n\u001b[1;32m   1963\u001b[0m         \u001b[0margs\u001b[0m\u001b[0;34m,\u001b[0m\u001b[0;34m\u001b[0m\u001b[0;34m\u001b[0m\u001b[0m\n",
      "\u001b[0;32m/opt/anaconda3/envs/tf2env/lib/python3.7/site-packages/tensorflow/python/eager/function.py\u001b[0m in \u001b[0;36mcall\u001b[0;34m(self, ctx, args, cancellation_manager)\u001b[0m\n\u001b[1;32m    594\u001b[0m               \u001b[0minputs\u001b[0m\u001b[0;34m=\u001b[0m\u001b[0margs\u001b[0m\u001b[0;34m,\u001b[0m\u001b[0;34m\u001b[0m\u001b[0;34m\u001b[0m\u001b[0m\n\u001b[1;32m    595\u001b[0m               \u001b[0mattrs\u001b[0m\u001b[0;34m=\u001b[0m\u001b[0mattrs\u001b[0m\u001b[0;34m,\u001b[0m\u001b[0;34m\u001b[0m\u001b[0;34m\u001b[0m\u001b[0m\n\u001b[0;32m--> 596\u001b[0;31m               ctx=ctx)\n\u001b[0m\u001b[1;32m    597\u001b[0m         \u001b[0;32melse\u001b[0m\u001b[0;34m:\u001b[0m\u001b[0;34m\u001b[0m\u001b[0;34m\u001b[0m\u001b[0m\n\u001b[1;32m    598\u001b[0m           outputs = execute.execute_with_cancellation(\n",
      "\u001b[0;32m/opt/anaconda3/envs/tf2env/lib/python3.7/site-packages/tensorflow/python/eager/execute.py\u001b[0m in \u001b[0;36mquick_execute\u001b[0;34m(op_name, num_outputs, inputs, attrs, ctx, name)\u001b[0m\n\u001b[1;32m     58\u001b[0m     \u001b[0mctx\u001b[0m\u001b[0;34m.\u001b[0m\u001b[0mensure_initialized\u001b[0m\u001b[0;34m(\u001b[0m\u001b[0;34m)\u001b[0m\u001b[0;34m\u001b[0m\u001b[0;34m\u001b[0m\u001b[0m\n\u001b[1;32m     59\u001b[0m     tensors = pywrap_tfe.TFE_Py_Execute(ctx._handle, device_name, op_name,\n\u001b[0;32m---> 60\u001b[0;31m                                         inputs, attrs, num_outputs)\n\u001b[0m\u001b[1;32m     61\u001b[0m   \u001b[0;32mexcept\u001b[0m \u001b[0mcore\u001b[0m\u001b[0;34m.\u001b[0m\u001b[0m_NotOkStatusException\u001b[0m \u001b[0;32mas\u001b[0m \u001b[0me\u001b[0m\u001b[0;34m:\u001b[0m\u001b[0;34m\u001b[0m\u001b[0;34m\u001b[0m\u001b[0m\n\u001b[1;32m     62\u001b[0m     \u001b[0;32mif\u001b[0m \u001b[0mname\u001b[0m \u001b[0;32mis\u001b[0m \u001b[0;32mnot\u001b[0m \u001b[0;32mNone\u001b[0m\u001b[0;34m:\u001b[0m\u001b[0;34m\u001b[0m\u001b[0;34m\u001b[0m\u001b[0m\n",
      "\u001b[0;31mKeyboardInterrupt\u001b[0m: "
     ]
    }
   ],
   "source": [
    "model, history = run_model(data_path = DATA_PATH, model_type = \"convnet_2d\")"
   ]
  },
  {
   "cell_type": "markdown",
   "id": "wanted-report",
   "metadata": {},
   "source": [
    "________________________________"
   ]
  },
  {
   "cell_type": "markdown",
   "id": "representative-edinburgh",
   "metadata": {},
   "source": [
    "________________________________"
   ]
  },
  {
   "cell_type": "markdown",
   "id": "analyzed-worst",
   "metadata": {},
   "source": [
    "________________________________"
   ]
  },
  {
   "cell_type": "markdown",
   "id": "universal-thing",
   "metadata": {},
   "source": [
    "________________________________"
   ]
  },
  {
   "cell_type": "markdown",
   "id": "positive-agriculture",
   "metadata": {},
   "source": [
    "________________________________"
   ]
  },
  {
   "cell_type": "markdown",
   "id": "handled-forth",
   "metadata": {},
   "source": [
    "### Manuall inspect the model"
   ]
  },
  {
   "cell_type": "code",
   "execution_count": 127,
   "id": "broke-characteristic",
   "metadata": {},
   "outputs": [],
   "source": [
    "from src.evals.data_processing import get_and_process_data\n",
    "from src.models.resnet1d import ProtResNet_1D\n",
    "from tensorflow.keras import optimizers"
   ]
  },
  {
   "cell_type": "markdown",
   "id": "deadly-expert",
   "metadata": {},
   "source": [
    "#### Prepare data"
   ]
  },
  {
   "cell_type": "code",
   "execution_count": null,
   "id": "transsexual-diagram",
   "metadata": {},
   "outputs": [],
   "source": [
    "X, y1, y2 = get_and_process_data(DATA_PATH)\n",
    "X.shape"
   ]
  },
  {
   "cell_type": "markdown",
   "id": "little-aurora",
   "metadata": {},
   "source": [
    "#### Define the model"
   ]
  },
  {
   "cell_type": "code",
   "execution_count": 187,
   "id": "blessed-wagner",
   "metadata": {},
   "outputs": [],
   "source": [
    "from tensorflow.keras import layers\n",
    "import tensorflow as tf\n",
    "\n",
    "\n",
    "class ProtConvNet_2D(tf.keras.Model):\n",
    "\n",
    "    def __init__(\n",
    "            self,\n",
    "            num_char,\n",
    "            seq_length,\n",
    "            num_conv_layers: int = 2,\n",
    "            kernel_size: int = 3,\n",
    "            strides: int = 1,\n",
    "            target_names=None,\n",
    "            **kwargs,\n",
    "    ):\n",
    "        super(ProtConvNet_2D, self).__init__(name=\"ProtConvNet_2D\")\n",
    "        \n",
    "        if target_names is None:\n",
    "            target_names = (\"Target_1\", \"Target_2\")\n",
    "\n",
    "        filter_sizes = [256, 128, 64, 32, 16]\n",
    "        assert num_conv_layers < len(filter_sizes) - 1\n",
    "        \n",
    "        self.one_hot_layer = layers.Lambda(tf.one_hot, arguments={'depth': num_char}, output_shape=num_char)\n",
    "        self.expand_dim_layer = layers.Lambda(tf.expand_dims, arguments= {\"axis\": 3})\n",
    "        \n",
    "        self.conv_layers = [\n",
    "                        layers.Conv2D(filters=filter_sizes[i], kernel_size=(kernel_size, kernel_size),\n",
    "                                    input_shape=(seq_length, num_char, 1),\n",
    "                                    strides=strides, activation=\"relu\")\n",
    "            for i in range(num_conv_layers)\n",
    "        ]\n",
    "        \n",
    "        self.maxpool_layer = layers.MaxPooling2D((2, 2))\n",
    "        \n",
    "        self.flatten = layers.Flatten()\n",
    "        \n",
    "        self.dense1 = layers.Dense(256, activation='relu')\n",
    "        self.dense2 = layers.Dense(64, activation='relu')\n",
    "        \n",
    "        self.output_layer1 = layers.Dense(1, name=target_names[0])\n",
    "        self.output_layer2 = layers.Dense(1, name=target_names[1])\n",
    "\n",
    "        \n",
    "    def call(self, inputs, training=None, mask=None):\n",
    "        print(\"Input shape:\", inputs.shape)\n",
    "        \n",
    "        x = self.one_hot_layer(inputs)\n",
    "        print(\"One Hot shape:\",x.shape)\n",
    "        \n",
    "        x = self.expand_dim_layer(x)\n",
    "        print(\"Expand Dim shape:\",x.shape, )\n",
    "        \n",
    "        for layer in self.conv_layers:\n",
    "            x = layer(x)\n",
    "            print(\"Conv Layer shape:\",x.shape)\n",
    "            x = self.maxpool_layer(x)\n",
    "            print(\"Max Pool shape:\",x.shape)\n",
    "        \n",
    "        \n",
    "        x = self.flatten(x)\n",
    "        print(\"Dense 1 shape:\",x.shape)\n",
    "        x = self.dense1(x)\n",
    "        print(\"Dense 2 shape:\",x.shape)\n",
    "        x = self.dense2(x)\n",
    "\n",
    "        output1 = self.output_layer1(x)\n",
    "        print(\"Output shape:\",x.shape)\n",
    "        output2 = self.output_layer2(x)\n",
    "\n",
    "        return [output1,output2 ]"
   ]
  },
  {
   "cell_type": "code",
   "execution_count": 188,
   "id": "checked-thomas",
   "metadata": {
    "collapsed": true
   },
   "outputs": [
    {
     "name": "stdout",
     "output_type": "stream",
     "text": [
      "Input shape: (32, 72)\n",
      "One Hot shape: (32, 72, 19)\n",
      "Expand Dim shape: (32, 72, 19, 1)\n",
      "Conv Layer shape: (32, 70, 17, 256)\n",
      "Max Pool shape: (32, 35, 8, 256)\n",
      "Conv Layer shape: (32, 33, 6, 128)\n",
      "Max Pool shape: (32, 16, 3, 128)\n",
      "Dense 1 shape: (32, 6144)\n",
      "Dense 2 shape: (32, 256)\n",
      "Output shape: (32, 64)\n",
      "Input shape: (32, 72)\n",
      "One Hot shape: (32, 72, 19)\n",
      "Expand Dim shape: (32, 72, 19, 1)\n",
      "Conv Layer shape: (32, 70, 17, 256)\n",
      "Max Pool shape: (32, 35, 8, 256)\n",
      "Conv Layer shape: (32, 33, 6, 128)\n",
      "Max Pool shape: (32, 16, 3, 128)\n",
      "Dense 1 shape: (32, 6144)\n",
      "Dense 2 shape: (32, 256)\n",
      "Output shape: (32, 64)\n",
      "2/2 [==============================] - 1s 246ms/step - loss: 2.5340 - output_1_loss: 1.3019 - output_2_loss: 1.2321 - output_1_mse: 1.3019 - output_2_mse: 1.2321\n"
     ]
    },
    {
     "data": {
      "text/plain": [
       "<tensorflow.python.keras.callbacks.History at 0x7fde718b8a10>"
      ]
     },
     "execution_count": 188,
     "metadata": {},
     "output_type": "execute_result"
    }
   ],
   "source": [
    "model = ProtConvNet_2D(19, 72)\n",
    "model.compile(optimizer=optimizers.Adam(learning_rate=0.001),loss='mse',metrics=['mse'])\n",
    "model.fit(X[:64], [y1[:64], y1[:64]])"
   ]
  },
  {
   "cell_type": "code",
   "execution_count": 186,
   "id": "material-indiana",
   "metadata": {
    "scrolled": true
   },
   "outputs": [
    {
     "name": "stdout",
     "output_type": "stream",
     "text": [
      "Model: \"ProtConvNet_2D\"\n",
      "_________________________________________________________________\n",
      "Layer (type)                 Output Shape              Param #   \n",
      "=================================================================\n",
      "lambda_67 (Lambda)           multiple                  0         \n",
      "_________________________________________________________________\n",
      "lambda_68 (Lambda)           multiple                  0         \n",
      "_________________________________________________________________\n",
      "conv2d_34 (Conv2D)           multiple                  2560      \n",
      "_________________________________________________________________\n",
      "conv2d_35 (Conv2D)           multiple                  590080    \n",
      "_________________________________________________________________\n",
      "max_pooling2d_12 (MaxPooling multiple                  0         \n",
      "_________________________________________________________________\n",
      "flatten_10 (Flatten)         multiple                  0         \n",
      "_________________________________________________________________\n",
      "dense_41 (Dense)             multiple                  3145984   \n",
      "_________________________________________________________________\n",
      "dense_42 (Dense)             multiple                  16448     \n",
      "_________________________________________________________________\n",
      "Target_1 (Dense)             multiple                  65        \n",
      "_________________________________________________________________\n",
      "Target_2 (Dense)             multiple                  65        \n",
      "=================================================================\n",
      "Total params: 3,755,202\n",
      "Trainable params: 3,755,202\n",
      "Non-trainable params: 0\n",
      "_________________________________________________________________\n"
     ]
    }
   ],
   "source": [
    "model.summary()"
   ]
  }
 ],
 "metadata": {
  "kernelspec": {
   "display_name": "tf2env",
   "language": "python",
   "name": "tf2env"
  },
  "language_info": {
   "codemirror_mode": {
    "name": "ipython",
    "version": 3
   },
   "file_extension": ".py",
   "mimetype": "text/x-python",
   "name": "python",
   "nbconvert_exporter": "python",
   "pygments_lexer": "ipython3",
   "version": "3.7.9"
  }
 },
 "nbformat": 4,
 "nbformat_minor": 5
}
