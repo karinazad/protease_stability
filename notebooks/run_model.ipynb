{
 "cells": [
  {
   "cell_type": "code",
   "execution_count": 13,
   "metadata": {
    "scrolled": false
   },
   "outputs": [
    {
     "name": "stdout",
     "output_type": "stream",
     "text": [
      "The autoreload extension is already loaded. To reload it, use:\n",
      "  %reload_ext autoreload\n"
     ]
    }
   ],
   "source": [
    "%load_ext autoreload\n",
    "%autoreload 2\n",
    "\n",
    "import os \n",
    "import sys\n",
    "\n",
    "ROOT_PATH = os.path.dirname(os.getcwd())\n",
    "sys.path.append(ROOT_PATH)\n",
    "try:\n",
    "    sys.path.remove('/projects/p30802/Karina/protease_stability/')\n",
    "except:\n",
    "    pass\n",
    "\n",
    "import numpy as np\n",
    "import matplotlib.pyplot as plt\n",
    "\n",
    "from src_.evals.run_model import run_model, build_model, get_params\n",
    "from src_.evals.data_processing import get_and_process_data\n",
    "from src_.utils.general import multi_target_train_test_split, average_losses\n",
    "from src_.models.wrapper import ProtNet\n",
    "from tensorflow.keras import optimizers\n",
    "from src_.config import Config"
   ]
  },
  {
   "cell_type": "markdown",
   "metadata": {},
   "source": [
    "### Custom Config"
   ]
  },
  {
   "cell_type": "code",
   "execution_count": 14,
   "metadata": {},
   "outputs": [],
   "source": [
    "DATA_PATH = os.path.join(ROOT_PATH, \"data/210728_scrambles_for_unstructure_model.csv\")\n",
    "DATA2_PATH = os.path.join(ROOT_PATH, \"data/210728_dmsv2_alldata.csv\")"
   ]
  },
  {
   "cell_type": "code",
   "execution_count": 15,
   "metadata": {},
   "outputs": [],
   "source": [
    "MODEL_TYPE = \"convnet_1d\""
   ]
  },
  {
   "cell_type": "markdown",
   "metadata": {},
   "source": [
    "### Manuall inspect the model"
   ]
  },
  {
   "cell_type": "markdown",
   "metadata": {},
   "source": [
    "#### Prepare data"
   ]
  },
  {
   "cell_type": "code",
   "execution_count": 16,
   "metadata": {
    "scrolled": true
   },
   "outputs": [],
   "source": [
    "X, kT, kC = get_and_process_data(DATA_PATH)\n",
    "X_folded, kT_folded, kC_folded = get_and_process_data(DATA2_PATH)"
   ]
  },
  {
   "cell_type": "code",
   "execution_count": 17,
   "metadata": {},
   "outputs": [
    {
     "name": "stdout",
     "output_type": "stream",
     "text": [
      "Unfolded data: X shape (67148, 74), target shapes ((67148,), (67148,))\n",
      "Folded data: X shape (651865, 74), target shapes ((651865,), (651865,))\n"
     ]
    }
   ],
   "source": [
    "print(f\"Unfolded data: X shape {X.shape}, target shapes {kT.shape, kC.shape}\")\n",
    "print(f\"Folded data: X shape {X_folded.shape}, target shapes {kT_folded.shape, kC_folded.shape}\")"
   ]
  },
  {
   "cell_type": "code",
   "execution_count": 18,
   "metadata": {
    "scrolled": true
   },
   "outputs": [
    {
     "name": "stdout",
     "output_type": "stream",
     "text": [
      "Unfolded data: X train shape (57075, 74), target shapes ((57075,), (57075,))\n"
     ]
    }
   ],
   "source": [
    "# Train test split for unfolded\n",
    "X_train, X_test, kT_train, kT_test, kC_train, kC_test = \\\n",
    "        multi_target_train_test_split(X, kT, kC, return_val=False)\n",
    "\n",
    "print(f\"Unfolded data: X train shape {X_train.shape}, target shapes {kT_train.shape, kC_train.shape}\")"
   ]
  },
  {
   "cell_type": "code",
   "execution_count": 19,
   "metadata": {},
   "outputs": [
    {
     "name": "stdout",
     "output_type": "stream",
     "text": [
      "Folded data: X train shape (57075, 74), target shapes ((57075,), (57075,))\n"
     ]
    }
   ],
   "source": [
    "# Train test split for folded\n",
    "np.random.seed(0)\n",
    "indices = np.random.randint(low=0, high=X_folded.shape[0], size = (X_train.shape[0], ))\n",
    "\n",
    "X_folded_train, X_folded_test, kT_folded_train, kT_folded_test, kC_folded_train, kC_folded_test = \\\n",
    "    list(map(lambda x: x[indices],\n",
    "            [X_folded, X_folded, kT_folded, kT_folded, kC_folded, kC_folded]))\n",
    "\n",
    "print(f\"Folded data: X train shape {X_folded_train.shape}, target shapes {kT_folded_train.shape, kC_folded_train.shape}\")"
   ]
  },
  {
   "cell_type": "markdown",
   "metadata": {},
   "source": [
    "#### Define the model"
   ]
  },
  {
   "cell_type": "code",
   "execution_count": 20,
   "metadata": {},
   "outputs": [],
   "source": [
    "params, epochs = get_params(MODEL_TYPE)\n",
    "\n",
    "params[\"num_char\"] = Config.get(\"n_char\")\n",
    "params[\"seq_length\"] = Config.get(\"seq_length\")"
   ]
  },
  {
   "cell_type": "code",
   "execution_count": 21,
   "metadata": {},
   "outputs": [
    {
     "name": "stderr",
     "output_type": "stream",
     "text": [
      "2021-09-12 09:56:17.939460: I tensorflow/compiler/jit/xla_cpu_device.cc:41] Not creating XLA devices, tf_xla_enable_xla_devices not set\n",
      "2021-09-12 09:56:17.941158: I tensorflow/core/platform/cpu_feature_guard.cc:142] This TensorFlow binary is optimized with oneAPI Deep Neural Network Library (oneDNN) to use the following CPU instructions in performance-critical operations:  SSE4.1 SSE4.2 AVX AVX2 AVX512F FMA\n",
      "To enable them in other operations, rebuild TensorFlow with the appropriate compiler flags.\n",
      "2021-09-12 09:56:17.943907: I tensorflow/core/common_runtime/process_util.cc:146] Creating new thread pool with default inter op setting: 2. Tune using inter_op_parallelism_threads for best performance.\n"
     ]
    }
   ],
   "source": [
    "model = ProtNet(model_type = MODEL_TYPE, **params)"
   ]
  },
  {
   "cell_type": "code",
   "execution_count": null,
   "metadata": {
    "scrolled": true
   },
   "outputs": [
    {
     "name": "stdout",
     "output_type": "stream",
     "text": [
      "Split dataset\n",
      "\n",
      "Epoch 1/8:\n",
      "\n",
      "\tstep=0,   loss=18.136,   unfolded mse=34.271,   stab score agreement mse=2.001\n",
      "\tval loss=19.515,   val unfolded mse=35.288,   val stab score agreement mse=3.742\n",
      "\n",
      "\tstep=50,   loss=3.777,   unfolded mse=3.164,   stab score agreement mse=4.389\n",
      "\tval loss=3.131,   val unfolded mse=3.198,   val stab score agreement mse=3.064\n",
      "\n",
      "\tstep=100,   loss=3.362,   unfolded mse=3.191,   stab score agreement mse=3.533\n",
      "\tval loss=2.915,   val unfolded mse=2.793,   val stab score agreement mse=3.037\n",
      "\n",
      "\tstep=150,   loss=2.423,   unfolded mse=2.552,   stab score agreement mse=2.293\n",
      "\tval loss=2.902,   val unfolded mse=2.727,   val stab score agreement mse=3.077\n",
      "\n",
      "\tstep=200,   loss=2.134,   unfolded mse=2.68,   stab score agreement mse=1.589\n",
      "\tval loss=2.802,   val unfolded mse=2.561,   val stab score agreement mse=3.043\n",
      "\n",
      "\tstep=250,   loss=2.171,   unfolded mse=2.149,   stab score agreement mse=2.193\n",
      "\tval loss=2.916,   val unfolded mse=2.792,   val stab score agreement mse=3.04\n",
      "\n",
      "\tstep=300,   loss=4.176,   unfolded mse=2.234,   stab score agreement mse=6.118\n",
      "\tval loss=2.831,   val unfolded mse=2.575,   val stab score agreement mse=3.087\n",
      "\n",
      "\tstep=350,   loss=3.234,   unfolded mse=2.778,   stab score agreement mse=3.69\n",
      "\tval loss=2.83,   val unfolded mse=2.621,   val stab score agreement mse=3.04\n",
      "\n",
      "\tstep=400,   loss=3.178,   unfolded mse=2.409,   stab score agreement mse=3.946\n",
      "\tval loss=2.811,   val unfolded mse=2.557,   val stab score agreement mse=3.066\n",
      "\n",
      "\tstep=450,   loss=2.749,   unfolded mse=2.267,   stab score agreement mse=3.232\n",
      "\tval loss=2.871,   val unfolded mse=2.55,   val stab score agreement mse=3.192\n",
      "\n",
      "\tstep=500,   loss=2.432,   unfolded mse=2.078,   stab score agreement mse=2.787\n",
      "\tval loss=2.79,   val unfolded mse=2.514,   val stab score agreement mse=3.066\n",
      "\n",
      "\tstep=550,   loss=2.748,   unfolded mse=1.628,   stab score agreement mse=3.867\n",
      "\tval loss=2.754,   val unfolded mse=2.46,   val stab score agreement mse=3.048\n",
      "\n",
      "\tstep=600,   loss=1.612,   unfolded mse=1.92,   stab score agreement mse=1.304\n",
      "\tval loss=2.756,   val unfolded mse=2.455,   val stab score agreement mse=3.057\n",
      "\n",
      "\tstep=650,   loss=3.019,   unfolded mse=2.396,   stab score agreement mse=3.641\n",
      "\tval loss=2.775,   val unfolded mse=2.487,   val stab score agreement mse=3.062\n",
      "\n",
      "\tstep=700,   loss=2.25,   unfolded mse=2.343,   stab score agreement mse=2.157\n",
      "\tval loss=2.75,   val unfolded mse=2.46,   val stab score agreement mse=3.04\n",
      "\n",
      "\tstep=750,   loss=1.924,   unfolded mse=1.918,   stab score agreement mse=1.93\n",
      "\tval loss=2.769,   val unfolded mse=2.478,   val stab score agreement mse=3.06\n",
      "\n",
      "Epoch 2/8:\n",
      "\n",
      "\tstep=0,   loss=3.299,   unfolded mse=2.078,   stab score agreement mse=4.52\n",
      "\tval loss=2.98,   val unfolded mse=2.871,   val stab score agreement mse=3.089\n",
      "\n",
      "\tstep=50,   loss=2.056,   unfolded mse=2.315,   stab score agreement mse=1.797\n",
      "\tval loss=2.716,   val unfolded mse=2.393,   val stab score agreement mse=3.039\n",
      "\n",
      "\tstep=100,   loss=2.334,   unfolded mse=2.68,   stab score agreement mse=1.989\n",
      "\tval loss=2.758,   val unfolded mse=2.377,   val stab score agreement mse=3.14\n",
      "\n",
      "\tstep=150,   loss=2.571,   unfolded mse=2.752,   stab score agreement mse=2.39\n",
      "\tval loss=2.764,   val unfolded mse=2.494,   val stab score agreement mse=3.035\n",
      "\n",
      "\tstep=200,   loss=2.613,   unfolded mse=2.434,   stab score agreement mse=2.792\n",
      "\tval loss=2.688,   val unfolded mse=2.34,   val stab score agreement mse=3.036\n",
      "\n",
      "\tstep=250,   loss=3.645,   unfolded mse=2.264,   stab score agreement mse=5.026\n",
      "\tval loss=2.783,   val unfolded mse=2.533,   val stab score agreement mse=3.033\n",
      "\n",
      "\tstep=300,   loss=3.722,   unfolded mse=1.976,   stab score agreement mse=5.468\n",
      "\tval loss=2.679,   val unfolded mse=2.297,   val stab score agreement mse=3.061\n",
      "\n",
      "\tstep=350,   loss=4.625,   unfolded mse=2.966,   stab score agreement mse=6.284\n",
      "\tval loss=2.861,   val unfolded mse=2.682,   val stab score agreement mse=3.039\n",
      "\n",
      "\tstep=400,   loss=1.818,   unfolded mse=1.895,   stab score agreement mse=1.742\n",
      "\tval loss=2.711,   val unfolded mse=2.354,   val stab score agreement mse=3.068\n",
      "\n",
      "\tstep=450,   loss=3.326,   unfolded mse=2.227,   stab score agreement mse=4.424\n",
      "\tval loss=2.692,   val unfolded mse=2.342,   val stab score agreement mse=3.042\n",
      "\n",
      "\tstep=500,   loss=1.737,   unfolded mse=2.445,   stab score agreement mse=1.03\n",
      "\tval loss=2.7,   val unfolded mse=2.344,   val stab score agreement mse=3.055\n",
      "\n",
      "\tstep=550,   loss=1.722,   unfolded mse=1.653,   stab score agreement mse=1.791\n",
      "\tval loss=2.668,   val unfolded mse=2.297,   val stab score agreement mse=3.039\n",
      "\n",
      "\tstep=600,   loss=3.119,   unfolded mse=2.825,   stab score agreement mse=3.413\n",
      "\tval loss=2.671,   val unfolded mse=2.284,   val stab score agreement mse=3.058\n",
      "\n",
      "\tstep=650,   loss=2.09,   unfolded mse=2.281,   stab score agreement mse=1.9\n",
      "\tval loss=2.777,   val unfolded mse=2.523,   val stab score agreement mse=3.03\n",
      "\n",
      "\tstep=700,   loss=2.226,   unfolded mse=2.361,   stab score agreement mse=2.091\n",
      "\tval loss=2.633,   val unfolded mse=2.22,   val stab score agreement mse=3.046\n",
      "\n",
      "\tstep=750,   loss=2.216,   unfolded mse=2.9,   stab score agreement mse=1.532\n",
      "\tval loss=2.653,   val unfolded mse=2.257,   val stab score agreement mse=3.049\n",
      "\n",
      "Epoch 3/8:\n",
      "\n",
      "\tstep=0,   loss=2.765,   unfolded mse=2.22,   stab score agreement mse=3.311\n",
      "\tval loss=2.801,   val unfolded mse=2.571,   val stab score agreement mse=3.032\n",
      "\n",
      "\tstep=50,   loss=1.803,   unfolded mse=2.182,   stab score agreement mse=1.425\n",
      "\tval loss=2.644,   val unfolded mse=2.255,   val stab score agreement mse=3.034\n",
      "\n",
      "\tstep=100,   loss=3.669,   unfolded mse=1.746,   stab score agreement mse=5.592\n",
      "\tval loss=2.613,   val unfolded mse=2.194,   val stab score agreement mse=3.032\n",
      "\n",
      "\tstep=150,   loss=3.035,   unfolded mse=2.322,   stab score agreement mse=3.748\n",
      "\tval loss=2.732,   val unfolded mse=2.418,   val stab score agreement mse=3.045\n",
      "\n",
      "\tstep=200,   loss=2.876,   unfolded mse=2.278,   stab score agreement mse=3.473\n",
      "\tval loss=2.656,   val unfolded mse=2.217,   val stab score agreement mse=3.095\n",
      "\n",
      "\tstep=250,   loss=2.28,   unfolded mse=1.895,   stab score agreement mse=2.664\n",
      "\tval loss=2.609,   val unfolded mse=2.188,   val stab score agreement mse=3.03\n",
      "\n",
      "\tstep=300,   loss=1.566,   unfolded mse=2.085,   stab score agreement mse=1.047\n",
      "\tval loss=2.602,   val unfolded mse=2.159,   val stab score agreement mse=3.045\n",
      "\n",
      "\tstep=350,   loss=2.399,   unfolded mse=1.646,   stab score agreement mse=3.152\n",
      "\tval loss=2.606,   val unfolded mse=2.135,   val stab score agreement mse=3.077\n",
      "\n",
      "\tstep=400,   loss=2.294,   unfolded mse=1.674,   stab score agreement mse=2.915\n",
      "\tval loss=2.63,   val unfolded mse=2.229,   val stab score agreement mse=3.032\n",
      "\n",
      "\tstep=450,   loss=3.749,   unfolded mse=2.491,   stab score agreement mse=5.007\n",
      "\tval loss=2.635,   val unfolded mse=2.231,   val stab score agreement mse=3.038\n",
      "\n",
      "\tstep=500,   loss=2.772,   unfolded mse=1.605,   stab score agreement mse=3.94\n",
      "\tval loss=2.567,   val unfolded mse=2.086,   val stab score agreement mse=3.048\n",
      "\n",
      "\tstep=550,   loss=1.974,   unfolded mse=2.27,   stab score agreement mse=1.678\n",
      "\tval loss=2.559,   val unfolded mse=2.032,   val stab score agreement mse=3.087\n",
      "\n",
      "\tstep=600,   loss=2.849,   unfolded mse=2.993,   stab score agreement mse=2.705\n",
      "\tval loss=2.522,   val unfolded mse=2.014,   val stab score agreement mse=3.03\n",
      "\n",
      "\tstep=650,   loss=1.713,   unfolded mse=1.984,   stab score agreement mse=1.442\n",
      "\tval loss=2.497,   val unfolded mse=1.948,   val stab score agreement mse=3.046\n",
      "\n",
      "\tstep=700,   loss=2.516,   unfolded mse=3.39,   stab score agreement mse=1.642\n",
      "\tval loss=2.487,   val unfolded mse=1.927,   val stab score agreement mse=3.047\n",
      "\n",
      "\tstep=750,   loss=1.753,   unfolded mse=1.712,   stab score agreement mse=1.793\n",
      "\tval loss=2.472,   val unfolded mse=1.903,   val stab score agreement mse=3.041\n",
      "\n",
      "Epoch 4/8:\n",
      "\n",
      "\tstep=0,   loss=2.3,   unfolded mse=1.91,   stab score agreement mse=2.69\n",
      "\tval loss=2.659,   val unfolded mse=2.283,   val stab score agreement mse=3.035\n",
      "\n",
      "\tstep=50,   loss=2.516,   unfolded mse=2.29,   stab score agreement mse=2.742\n",
      "\tval loss=2.468,   val unfolded mse=1.894,   val stab score agreement mse=3.041\n",
      "\n",
      "\tstep=100,   loss=2.553,   unfolded mse=1.304,   stab score agreement mse=3.801\n",
      "\tval loss=2.447,   val unfolded mse=1.86,   val stab score agreement mse=3.033\n"
     ]
    },
    {
     "name": "stdout",
     "output_type": "stream",
     "text": [
      "\n",
      "\tstep=150,   loss=1.571,   unfolded mse=1.503,   stab score agreement mse=1.64\n",
      "\tval loss=2.492,   val unfolded mse=1.928,   val stab score agreement mse=3.057\n",
      "\n",
      "\tstep=200,   loss=2.142,   unfolded mse=1.632,   stab score agreement mse=2.653\n",
      "\tval loss=2.533,   val unfolded mse=1.98,   val stab score agreement mse=3.086\n",
      "\n",
      "\tstep=250,   loss=3.079,   unfolded mse=1.919,   stab score agreement mse=4.239\n",
      "\tval loss=2.532,   val unfolded mse=2.027,   val stab score agreement mse=3.036\n",
      "\n",
      "\tstep=300,   loss=1.357,   unfolded mse=1.661,   stab score agreement mse=1.053\n",
      "\tval loss=2.424,   val unfolded mse=1.818,   val stab score agreement mse=3.03\n",
      "\n",
      "\tstep=350,   loss=4.229,   unfolded mse=1.722,   stab score agreement mse=6.737\n",
      "\tval loss=2.416,   val unfolded mse=1.795,   val stab score agreement mse=3.037\n",
      "\n",
      "\tstep=400,   loss=1.942,   unfolded mse=1.314,   stab score agreement mse=2.569\n",
      "\tval loss=2.407,   val unfolded mse=1.781,   val stab score agreement mse=3.032\n",
      "\n",
      "\tstep=450,   loss=2.543,   unfolded mse=1.733,   stab score agreement mse=3.353\n",
      "\tval loss=2.411,   val unfolded mse=1.764,   val stab score agreement mse=3.059\n",
      "\n",
      "\tstep=500,   loss=1.26,   unfolded mse=1.367,   stab score agreement mse=1.153\n",
      "\tval loss=2.43,   val unfolded mse=1.832,   val stab score agreement mse=3.029\n",
      "\n",
      "\tstep=550,   loss=1.722,   unfolded mse=1.337,   stab score agreement mse=2.106\n",
      "\tval loss=2.369,   val unfolded mse=1.706,   val stab score agreement mse=3.033\n",
      "\n",
      "\tstep=600,   loss=2.123,   unfolded mse=1.687,   stab score agreement mse=2.559\n",
      "\tval loss=2.433,   val unfolded mse=1.837,   val stab score agreement mse=3.029\n",
      "\n",
      "\tstep=650,   loss=2.391,   unfolded mse=1.56,   stab score agreement mse=3.221\n",
      "\tval loss=2.439,   val unfolded mse=1.846,   val stab score agreement mse=3.032\n",
      "\n",
      "\tstep=700,   loss=1.801,   unfolded mse=1.813,   stab score agreement mse=1.789\n",
      "\tval loss=2.514,   val unfolded mse=1.996,   val stab score agreement mse=3.032\n",
      "\n",
      "\tstep=750,   loss=1.568,   unfolded mse=2.153,   stab score agreement mse=0.983\n",
      "\tval loss=2.374,   val unfolded mse=1.72,   val stab score agreement mse=3.029\n",
      "\n",
      "Epoch 5/8:\n",
      "\n",
      "\tstep=0,   loss=4.155,   unfolded mse=2.639,   stab score agreement mse=5.67\n",
      "\tval loss=2.504,   val unfolded mse=1.948,   val stab score agreement mse=3.061\n",
      "\n",
      "\tstep=50,   loss=3.056,   unfolded mse=1.845,   stab score agreement mse=4.268\n",
      "\tval loss=2.353,   val unfolded mse=1.678,   val stab score agreement mse=3.029\n",
      "\n",
      "\tstep=100,   loss=1.602,   unfolded mse=1.522,   stab score agreement mse=1.683\n",
      "\tval loss=2.416,   val unfolded mse=1.797,   val stab score agreement mse=3.034\n",
      "\n",
      "\tstep=150,   loss=1.514,   unfolded mse=1.47,   stab score agreement mse=1.557\n",
      "\tval loss=2.355,   val unfolded mse=1.673,   val stab score agreement mse=3.037\n",
      "\n",
      "\tstep=200,   loss=1.679,   unfolded mse=1.509,   stab score agreement mse=1.848\n",
      "\tval loss=2.351,   val unfolded mse=1.673,   val stab score agreement mse=3.029\n",
      "\n",
      "\tstep=250,   loss=2.052,   unfolded mse=1.396,   stab score agreement mse=2.709\n",
      "\tval loss=2.371,   val unfolded mse=1.711,   val stab score agreement mse=3.031\n",
      "\n",
      "\tstep=300,   loss=2.728,   unfolded mse=1.542,   stab score agreement mse=3.915\n",
      "\tval loss=2.336,   val unfolded mse=1.635,   val stab score agreement mse=3.038\n",
      "\n",
      "\tstep=350,   loss=1.763,   unfolded mse=2.098,   stab score agreement mse=1.428\n",
      "\tval loss=2.372,   val unfolded mse=1.709,   val stab score agreement mse=3.036\n",
      "\n",
      "\tstep=400,   loss=2.453,   unfolded mse=1.364,   stab score agreement mse=3.541\n",
      "\tval loss=2.347,   val unfolded mse=1.666,   val stab score agreement mse=3.029\n",
      "\n",
      "\tstep=450,   loss=1.605,   unfolded mse=1.523,   stab score agreement mse=1.686\n",
      "\tval loss=2.351,   val unfolded mse=1.668,   val stab score agreement mse=3.033\n",
      "\n",
      "\tstep=500,   loss=1.977,   unfolded mse=2.642,   stab score agreement mse=1.313\n"
     ]
    }
   ],
   "source": [
    "model.train(X_unfolded=X_train,\n",
    "            targets_unfolded=[kT_train, kC_train],\n",
    "            X_folded=X_folded_train,\n",
    "            targets_folded=[kT_folded_train, kC_folded_train],\n",
    "            epochs=epochs,\n",
    "            validation=True)"
   ]
  },
  {
   "cell_type": "code",
   "execution_count": null,
   "metadata": {},
   "outputs": [],
   "source": [
    "loss, unfolded_mse, agreement_mse = model.losses[\"loss\"], model.losses[\"unfolded_mse\"], model.losses[\"agreement_mse\"]\n",
    "avg_loss, avg_unfolded_mse, avg_agreement_mse = average_losses([loss, unfolded_mse, agreement_mse], epochs=2)"
   ]
  },
  {
   "cell_type": "code",
   "execution_count": null,
   "metadata": {},
   "outputs": [],
   "source": [
    "loss, unfolded_mse, agreement_mse = model.losses[\"loss\"], model.losses[\"unfolded_mse\"], model.losses[\"agreement_mse\"]\n",
    "\n",
    "plt.plot(unfolded_mse, label=\"Unfolded MSE\", color =\"orange\")\n",
    "plt.plot(agreement_mse, label=\"Stability score agreement\", color=\"green\")\n",
    "plt.plot(loss, label=\"Total loss\", color=\"b\", alpha =0.5)\n",
    "\n",
    "plt.title(MODEL_TYPE)\n",
    "\n",
    "plt.legend()\n",
    "plt.show()"
   ]
  },
  {
   "cell_type": "code",
   "execution_count": null,
   "metadata": {},
   "outputs": [],
   "source": [
    "plt.plot(avg_loss, label=\"Unfolded MSE\", color =\"orange\")\n",
    "plt.plot(avg_unfolded_mse, label=\"Stability score agreement\", color=\"green\")\n",
    "plt.plot(avg_agreement_mse, label=\"Total loss\", color=\"b\", alpha =0.7)\n",
    "\n",
    "plt.title(MODEL_TYPE)\n",
    "plt.legend()\n",
    "plt.show()"
   ]
  },
  {
   "cell_type": "code",
   "execution_count": null,
   "metadata": {},
   "outputs": [],
   "source": []
  },
  {
   "cell_type": "code",
   "execution_count": null,
   "metadata": {},
   "outputs": [],
   "source": []
  }
 ],
 "metadata": {
  "kernelspec": {
   "display_name": "pythonennv",
   "language": "python",
   "name": "pythonennv"
  },
  "language_info": {
   "codemirror_mode": {
    "name": "ipython",
    "version": 3
   },
   "file_extension": ".py",
   "mimetype": "text/x-python",
   "name": "python",
   "nbconvert_exporter": "python",
   "pygments_lexer": "ipython3",
   "version": "3.9.6"
  }
 },
 "nbformat": 4,
 "nbformat_minor": 5
}
