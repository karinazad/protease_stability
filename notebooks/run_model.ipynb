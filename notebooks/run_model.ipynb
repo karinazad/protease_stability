{
 "cells": [
  {
   "cell_type": "code",
   "execution_count": 2,
   "metadata": {
    "scrolled": true
   },
   "outputs": [
    {
     "name": "stdout",
     "output_type": "stream",
     "text": [
      "The autoreload extension is already loaded. To reload it, use:\n",
      "  %reload_ext autoreload\n"
     ]
    }
   ],
   "source": [
    "%load_ext autoreload\n",
    "%autoreload 2\n",
    "\n",
    "import os \n",
    "import sys\n",
    "\n",
    "ROOT_PATH = os.path.dirname(os.getcwd())\n",
    "sys.path.append(ROOT_PATH)\n",
    "try:\n",
    "    sys.path.remove('/projects/p30802/Karina/protease_stability/')\n",
    "except:\n",
    "    pass\n",
    "\n",
    "import numpy as np\n",
    "import matplotlib.pyplot as plt\n",
    "\n",
    "from src_.evals.run_model import get_params\n",
    "from src_.evals.data_processing import get_and_process_data, get_folded_unfolded_data_splits\n",
    "from src_.utils.general import sample_arrays\n",
    "from src_.utils.plotting import plot_losses, plot_losses_unfolded_kT_kC, plot_scatter_predictions\n",
    "from src_.models.wrapper import ProtNet\n",
    "from src_.config import Config\n",
    "from src_.evals.stability_score import plot_stability_score_correlation\n",
    "\n",
    "np.random.seed(42)"
   ]
  },
  {
   "cell_type": "markdown",
   "metadata": {},
   "source": [
    "_____"
   ]
  },
  {
   "cell_type": "markdown",
   "metadata": {},
   "source": [
    "### Custom Config"
   ]
  },
  {
   "cell_type": "code",
   "execution_count": 3,
   "metadata": {},
   "outputs": [],
   "source": [
    "DATA_PATH = os.path.join(ROOT_PATH, \"data/210728_scrambles_for_unstructure_model.csv\")\n",
    "DATA2_PATH = os.path.join(ROOT_PATH, \"data/210728_dmsv2_alldata.csv\")"
   ]
  },
  {
   "cell_type": "code",
   "execution_count": 4,
   "metadata": {},
   "outputs": [],
   "source": [
    "MODEL_TYPE = \"convnet_1d\""
   ]
  },
  {
   "cell_type": "markdown",
   "metadata": {},
   "source": [
    "_____"
   ]
  },
  {
   "cell_type": "markdown",
   "metadata": {},
   "source": [
    "### Prepare data"
   ]
  },
  {
   "cell_type": "code",
   "execution_count": null,
   "metadata": {
    "scrolled": true
   },
   "outputs": [],
   "source": [
    "X_unfolded, kT_unfolded, kC_unfolded = get_and_process_data(DATA_PATH, fit_to_range=\"remove\")\n",
    "X_folded, kT_folded, kC_folded = get_and_process_data(DATA2_PATH, fit_to_range=\"remove\")"
   ]
  },
  {
   "cell_type": "code",
   "execution_count": null,
   "metadata": {
    "scrolled": false
   },
   "outputs": [],
   "source": [
    "unfolded_data, folded_data = get_folded_unfolded_data_splits(X_unfolded, kT_unfolded, kC_unfolded,\n",
    "                                                            X_folded, kT_folded, kC_folded)"
   ]
  },
  {
   "cell_type": "markdown",
   "metadata": {},
   "source": [
    "_____"
   ]
  },
  {
   "cell_type": "markdown",
   "metadata": {},
   "source": [
    "### Train the model"
   ]
  },
  {
   "cell_type": "code",
   "execution_count": null,
   "metadata": {},
   "outputs": [],
   "source": [
    "params, epochs = get_params(MODEL_TYPE)\n",
    "\n",
    "params[\"num_char\"] = Config.get(\"n_char\")\n",
    "params[\"seq_length\"] = Config.get(\"seq_length\")"
   ]
  },
  {
   "cell_type": "code",
   "execution_count": null,
   "metadata": {
    "scrolled": true
   },
   "outputs": [],
   "source": [
    "model = ProtNet(model_type = MODEL_TYPE, **params)"
   ]
  },
  {
   "cell_type": "code",
   "execution_count": null,
   "metadata": {},
   "outputs": [],
   "source": [
    "model.train(\n",
    "    X_unfolded=unfolded_data[\"X_train\"],\n",
    "    kT_unfolded=unfolded_data[\"kT_train\"],\n",
    "    kC_unfolded=unfolded_data[\"kC_train\"],\n",
    "    X_folded=folded_data[\"X_train\"],\n",
    "    kT_folded=folded_data[\"kT_train\"],\n",
    "    kC_folded=folded_data[\"kC_train\"],\n",
    "    epochs=epochs,\n",
    ")"
   ]
  },
  {
   "cell_type": "markdown",
   "metadata": {},
   "source": [
    "_____"
   ]
  },
  {
   "cell_type": "markdown",
   "metadata": {},
   "source": [
    "_____"
   ]
  },
  {
   "cell_type": "markdown",
   "metadata": {},
   "source": [
    "### Evaluate model on the test data"
   ]
  },
  {
   "cell_type": "code",
   "execution_count": null,
   "metadata": {
    "scrolled": true
   },
   "outputs": [],
   "source": [
    "mse_kT, mse_kC, mse_stability = \\\n",
    "    model.evaluate(\n",
    "        X_unfolded=unfolded_data[\"X_test\"],\n",
    "        kT_unfolded=unfolded_data[\"kT_test\"],\n",
    "        kC_unfolded=unfolded_data[\"kC_test\"],\n",
    "        X_folded=folded_data[\"X_test\"],\n",
    "        kT_folded=folded_data[\"kT_test\"],\n",
    "        kC_folded=folded_data[\"kC_test\"]\n",
    "    )"
   ]
  },
  {
   "cell_type": "markdown",
   "metadata": {},
   "source": [
    "_____"
   ]
  },
  {
   "cell_type": "code",
   "execution_count": null,
   "metadata": {
    "scrolled": true
   },
   "outputs": [],
   "source": [
    "plot_scatter_predictions(model, \n",
    "                         unfolded_data[\"X_test\"],\n",
    "                         unfolded_data[\"kT_test\"],\n",
    "                         unfolded_data[\"kC_test\"],\n",
    "                         sample=2000)"
   ]
  },
  {
   "cell_type": "markdown",
   "metadata": {},
   "source": [
    "_____"
   ]
  },
  {
   "cell_type": "markdown",
   "metadata": {},
   "source": [
    "### Plot losses"
   ]
  },
  {
   "cell_type": "code",
   "execution_count": null,
   "metadata": {
    "scrolled": true
   },
   "outputs": [],
   "source": [
    "plot_losses(model)"
   ]
  },
  {
   "cell_type": "code",
   "execution_count": null,
   "metadata": {},
   "outputs": [],
   "source": [
    "plot_losses_unfolded_kT_kC(model)"
   ]
  },
  {
   "cell_type": "markdown",
   "metadata": {},
   "source": [
    "### Plot stability scores"
   ]
  },
  {
   "cell_type": "code",
   "execution_count": null,
   "metadata": {},
   "outputs": [],
   "source": [
    "X_test_folded_samples = sample_arrays([folded_data[\"X_test\"]], n_samples=1000)[0]\n",
    "\n",
    "kT_pred, kC_pred = model.predict(X_test_folded_samples)\n",
    "\n",
    "title=model.model.name.replace(\"_\", \" \")\n",
    "plt.scatter(kT_pred, kC_pred, alpha=0.3)\n",
    "plt.title(f\"USM-Predicted Range \\n {title}\")\n",
    "plt.show()"
   ]
  },
  {
   "cell_type": "code",
   "execution_count": null,
   "metadata": {
    "scrolled": true
   },
   "outputs": [],
   "source": [
    "np.random.seed(42)\n",
    "plot_stability_score_correlation(model.model,\n",
    "                                 folded_data[\"X_test\"],\n",
    "                                 folded_data[\"kT_test\"],\n",
    "                                 folded_data[\"kC_test\"],\n",
    "                                 sample = 1000)"
   ]
  },
  {
   "cell_type": "markdown",
   "metadata": {},
   "source": [
    "#### Local stability scores"
   ]
  },
  {
   "cell_type": "code",
   "execution_count": null,
   "metadata": {},
   "outputs": [],
   "source": [
    "# data_folded = pd.read_csv(DATA2_PATH)\n",
    "# data_folded[\"pdb_code\"] =  [name.split(\".\")[0] for name in data_folded.name]\n",
    "# grouped_indices = data_folded.groupby(by=\"pdb_code\").indices\n",
    "\n",
    "# X, kT, kC = get_and_process_data(DATA2_PATH, return_as_df=True)\n",
    "\n",
    "\n",
    "# save = False\n",
    "# n_to_plot = 20\n",
    "# save_dir = save_path = os.path.join(ROOT_PATH, f\"results/stability_scores/{MODEL_TYPE}/mutations/\")\n",
    "\n",
    "\n",
    "# if not os.path.exists(save_dir):\n",
    "#     os.makedirs(save_dir)\n",
    "\n",
    "# for i, (group_name, indices) in enumerate(grouped_indices.items()):\n",
    "#     if len(indices) > 10:\n",
    "#         X_, kT_, kC_ = X.loc[indices], kT.loc[indices], kC.loc[indices]\n",
    "#         kT_, kC_ = np.array(kT_), np.array(kC_)\n",
    "        \n",
    "#         save_path = os.path.join(save_dir, f\"{group_name}.png\")\n",
    "\n",
    "#         if save:   \n",
    "#             plot_stability_score_correlation(model.model, X_, kT_, kC_, title=group_name, save_path = save_path)\n",
    "#         else:\n",
    "#             plot_stability_score_correlation(model.model, X_, kT_, kC_, title=group_name)\n",
    "\n",
    "#     if i == n_to_plot:\n",
    "#         break"
   ]
  },
  {
   "cell_type": "markdown",
   "metadata": {},
   "source": [
    "_____"
   ]
  },
  {
   "cell_type": "markdown",
   "metadata": {},
   "source": [
    "_____"
   ]
  }
 ],
 "metadata": {
  "kernelspec": {
   "display_name": "pythonennv",
   "language": "python",
   "name": "pythonennv"
  },
  "language_info": {
   "codemirror_mode": {
    "name": "ipython",
    "version": 3
   },
   "file_extension": ".py",
   "mimetype": "text/x-python",
   "name": "python",
   "nbconvert_exporter": "python",
   "pygments_lexer": "ipython3",
   "version": "3.7.11"
  }
 },
 "nbformat": 4,
 "nbformat_minor": 5
}