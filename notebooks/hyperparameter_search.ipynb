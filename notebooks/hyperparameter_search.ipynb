{
 "cells": [
  {
   "cell_type": "code",
   "execution_count": 1,
   "id": "individual-booth",
   "metadata": {},
   "outputs": [],
   "source": [
    "%load_ext autoreload\n",
    "%autoreload 2\n",
    "\n",
    "import os \n",
    "import sys\n",
    "from datetime import date\n",
    "\n",
    "ROOT_PATH = os.path.dirname(os.getcwd())\n",
    "sys.path.append(ROOT_PATH)\n",
    "\n",
    "from src.evals.hyperparameter_search import run_hyperparameter_search\n",
    "from src.config import Config"
   ]
  },
  {
   "cell_type": "code",
   "execution_count": 2,
   "id": "devoted-textbook",
   "metadata": {},
   "outputs": [],
   "source": [
    "DATA_PATH = os.path.join(ROOT_PATH, \"data/210728_scrambles_for_unstructure_model.csv\")\n",
    "SAVE_DIR = os.path.join(ROOT_PATH, \"results\")\n",
    "SUFFIX = f\"-{date.today()}\"\n",
    "\n",
    "N_ITER = 20\n",
    "\n",
    "MODEL_TYPE = \"convnet_1d\"\n",
    "\n",
    "parameter_grid = Config.get(\"parameter_grid\")[MODEL_TYPE]"
   ]
  },
  {
   "cell_type": "code",
   "execution_count": 3,
   "id": "involved-literacy",
   "metadata": {
    "scrolled": false
   },
   "outputs": [
    {
     "name": "stdout",
     "output_type": "stream",
     "text": [
      "------ HYPERPARAMETER SEARCH ------\n",
      "TRIAL 1/20: \n",
      "Building model: convnet_1d\n",
      "\t\tAborting current run due to an error: in user code:\n",
      "\n",
      "    /opt/anaconda3/envs/tf2env/lib/python3.7/site-packages/tensorflow/python/keras/engine/training.py:855 train_function  *\n",
      "        return step_function(self, iterator)\n",
      "    /Users/kzadorozhny/Desktop/protease_stability/src/models/convnet1d.py:46 call  *\n",
      "        x = layer(x)\n",
      "    /opt/anaconda3/envs/tf2env/lib/python3.7/site-packages/tensorflow/python/keras/engine/base_layer.py:1030 __call__  **\n",
      "        outputs = call_fn(inputs, *args, **kwargs)\n",
      "    /opt/anaconda3/envs/tf2env/lib/python3.7/site-packages/tensorflow/python/keras/layers/convolutional.py:249 call\n",
      "        outputs = self._convolution_op(inputs, self.kernel)\n",
      "    /opt/anaconda3/envs/tf2env/lib/python3.7/site-packages/tensorflow/python/util/dispatch.py:206 wrapper\n",
      "        return target(*args, **kwargs)\n",
      "    /opt/anaconda3/envs/tf2env/lib/python3.7/site-packages/tensorflow/python/ops/nn_ops.py:1019 convolution_v2\n",
      "        name=name)\n",
      "    /opt/anaconda3/envs/tf2env/lib/python3.7/site-packages/tensorflow/python/ops/nn_ops.py:1149 convolution_internal\n",
      "        name=name)\n",
      "    /opt/anaconda3/envs/tf2env/lib/python3.7/site-packages/tensorflow/python/util/dispatch.py:206 wrapper\n",
      "        return target(*args, **kwargs)\n",
      "    /opt/anaconda3/envs/tf2env/lib/python3.7/site-packages/tensorflow/python/util/deprecation.py:602 new_func\n",
      "        return func(*args, **kwargs)\n",
      "    /opt/anaconda3/envs/tf2env/lib/python3.7/site-packages/tensorflow/python/util/deprecation.py:602 new_func\n",
      "        return func(*args, **kwargs)\n",
      "    /opt/anaconda3/envs/tf2env/lib/python3.7/site-packages/tensorflow/python/ops/nn_ops.py:1892 conv1d\n",
      "        name=name)\n",
      "    /opt/anaconda3/envs/tf2env/lib/python3.7/site-packages/tensorflow/python/ops/gen_nn_ops.py:973 conv2d\n",
      "        data_format=data_format, dilations=dilations, name=name)\n",
      "    /opt/anaconda3/envs/tf2env/lib/python3.7/site-packages/tensorflow/python/framework/op_def_library.py:750 _apply_op_helper\n",
      "        attrs=attr_protos, op_def=op_def)\n",
      "    /opt/anaconda3/envs/tf2env/lib/python3.7/site-packages/tensorflow/python/framework/func_graph.py:601 _create_op_internal\n",
      "        compute_device)\n",
      "    /opt/anaconda3/envs/tf2env/lib/python3.7/site-packages/tensorflow/python/framework/ops.py:3565 _create_op_internal\n",
      "        op_def=op_def)\n",
      "    /opt/anaconda3/envs/tf2env/lib/python3.7/site-packages/tensorflow/python/framework/ops.py:2042 __init__\n",
      "        control_input_ops, op_def)\n",
      "    /opt/anaconda3/envs/tf2env/lib/python3.7/site-packages/tensorflow/python/framework/ops.py:1883 _create_c_op\n",
      "        raise ValueError(str(e))\n",
      "\n",
      "    ValueError: Negative dimension size caused by subtracting 12 from 3 for '{{node ProtConvNet1D/conv1d_2/conv1d}} = Conv2D[T=DT_FLOAT, data_format=\"NHWC\", dilations=[1, 1, 1, 1], explicit_paddings=[], padding=\"VALID\", strides=[1, 1, 1, 1], use_cudnn_on_gpu=true](ProtConvNet1D/conv1d_2/conv1d/ExpandDims, ProtConvNet1D/conv1d_2/conv1d/ExpandDims_1)' with input shapes: [?,1,3,128], [1,12,128,64].\n",
      "\n",
      "TRIAL 2/20: \n",
      "Building model: convnet_1d\n",
      "446/446 [==============================] - 2s 4ms/step - loss: 0.9753 - output_1_loss: 0.4622 - output_2_loss: 0.5131 - output_1_mse: 0.4622 - output_2_mse: 0.5131\n",
      "{'loss': 0.975313127040863, 'loss Trypsin': 0.462202787399292, 'loss Chemotrypsin': 0.513110339641571, 'hyperparameters': {'strides': 1, 'num_conv_layers': 1, 'kernel_size': 5, 'embdedding_output_dim': 8}, 'epochs': 13} \n",
      "\n",
      "\n"
     ]
    },
    {
     "ename": "FileNotFoundError",
     "evalue": "[Errno 2] No such file or directory: '/Users/kzadorozhny/Desktop/protease_stability/results/hyperparametrs/convnet_1d/hyperparameters-2021-08-31.json'",
     "output_type": "error",
     "traceback": [
      "\u001b[0;31m---------------------------------------------------------------------------\u001b[0m",
      "\u001b[0;31mFileNotFoundError\u001b[0m                         Traceback (most recent call last)",
      "\u001b[0;32m<ipython-input-3-51c9f47b8a98>\u001b[0m in \u001b[0;36m<module>\u001b[0;34m\u001b[0m\n\u001b[1;32m      3\u001b[0m                           \u001b[0mdata_path\u001b[0m \u001b[0;34m=\u001b[0m \u001b[0mDATA_PATH\u001b[0m\u001b[0;34m,\u001b[0m\u001b[0;34m\u001b[0m\u001b[0;34m\u001b[0m\u001b[0m\n\u001b[1;32m      4\u001b[0m                           \u001b[0msave_dir\u001b[0m \u001b[0;34m=\u001b[0m \u001b[0mSAVE_DIR\u001b[0m\u001b[0;34m,\u001b[0m\u001b[0;34m\u001b[0m\u001b[0;34m\u001b[0m\u001b[0m\n\u001b[0;32m----> 5\u001b[0;31m                           suffix=SUFFIX)\n\u001b[0m",
      "\u001b[0;32m~/Desktop/protease_stability/src/evals/hyperparameter_search.py\u001b[0m in \u001b[0;36mrun_hyperparameter_search\u001b[0;34m(parameter_grid, n_iter, data_path, save_dir, model_type, suffix)\u001b[0m\n\u001b[1;32m     77\u001b[0m             \u001b[0msorted_scores\u001b[0m \u001b[0;34m=\u001b[0m \u001b[0mdict\u001b[0m\u001b[0;34m(\u001b[0m\u001b[0mlist\u001b[0m\u001b[0;34m(\u001b[0m\u001b[0msorted\u001b[0m\u001b[0;34m(\u001b[0m\u001b[0mscores\u001b[0m\u001b[0;34m.\u001b[0m\u001b[0mitems\u001b[0m\u001b[0;34m(\u001b[0m\u001b[0;34m)\u001b[0m\u001b[0;34m,\u001b[0m \u001b[0mkey\u001b[0m\u001b[0;34m=\u001b[0m\u001b[0;32mlambda\u001b[0m \u001b[0mrun\u001b[0m\u001b[0;34m:\u001b[0m \u001b[0;34m-\u001b[0m\u001b[0mrun\u001b[0m\u001b[0;34m[\u001b[0m\u001b[0;36m1\u001b[0m\u001b[0;34m]\u001b[0m\u001b[0;34m[\u001b[0m\u001b[0;34m\"loss\"\u001b[0m\u001b[0;34m]\u001b[0m\u001b[0;34m,\u001b[0m \u001b[0mreverse\u001b[0m\u001b[0;34m=\u001b[0m\u001b[0;32mTrue\u001b[0m\u001b[0;34m,\u001b[0m \u001b[0;34m)\u001b[0m\u001b[0;34m)\u001b[0m\u001b[0;34m)\u001b[0m\u001b[0;34m\u001b[0m\u001b[0;34m\u001b[0m\u001b[0m\n\u001b[1;32m     78\u001b[0m \u001b[0;34m\u001b[0m\u001b[0m\n\u001b[0;32m---> 79\u001b[0;31m             \u001b[0;32mwith\u001b[0m \u001b[0mopen\u001b[0m\u001b[0;34m(\u001b[0m\u001b[0;34mf\"{save_dir}/hyperparametrs/{model_type}/hyperparameters{suffix}.json\"\u001b[0m\u001b[0;34m,\u001b[0m \u001b[0;34m\"w\"\u001b[0m\u001b[0;34m)\u001b[0m \u001b[0;32mas\u001b[0m \u001b[0mresult_file\u001b[0m\u001b[0;34m:\u001b[0m\u001b[0;34m\u001b[0m\u001b[0;34m\u001b[0m\u001b[0m\n\u001b[0m\u001b[1;32m     80\u001b[0m                 \u001b[0mresult_file\u001b[0m\u001b[0;34m.\u001b[0m\u001b[0mwrite\u001b[0m\u001b[0;34m(\u001b[0m\u001b[0mjson\u001b[0m\u001b[0;34m.\u001b[0m\u001b[0mdumps\u001b[0m\u001b[0;34m(\u001b[0m\u001b[0msorted_scores\u001b[0m\u001b[0;34m,\u001b[0m \u001b[0mindent\u001b[0m\u001b[0;34m=\u001b[0m\u001b[0;36m4\u001b[0m\u001b[0;34m,\u001b[0m \u001b[0mdefault\u001b[0m\u001b[0;34m=\u001b[0m\u001b[0mstr\u001b[0m\u001b[0;34m)\u001b[0m\u001b[0;34m)\u001b[0m\u001b[0;34m\u001b[0m\u001b[0;34m\u001b[0m\u001b[0m\n\u001b[1;32m     81\u001b[0m \u001b[0;34m\u001b[0m\u001b[0m\n",
      "\u001b[0;31mFileNotFoundError\u001b[0m: [Errno 2] No such file or directory: '/Users/kzadorozhny/Desktop/protease_stability/results/hyperparametrs/convnet_1d/hyperparameters-2021-08-31.json'"
     ]
    }
   ],
   "source": [
    "run_hyperparameter_search(parameter_grid = parameter_grid,\n",
    "                          n_iter = N_ITER,\n",
    "                          data_path = DATA_PATH,\n",
    "                          save_dir = SAVE_DIR,\n",
    "                          suffix=SUFFIX)"
   ]
  },
  {
   "cell_type": "code",
   "execution_count": null,
   "id": "thirty-surgery",
   "metadata": {},
   "outputs": [],
   "source": []
  }
 ],
 "metadata": {
  "kernelspec": {
   "display_name": "tf2env",
   "language": "python",
   "name": "tf2env"
  },
  "language_info": {
   "codemirror_mode": {
    "name": "ipython",
    "version": 3
   },
   "file_extension": ".py",
   "mimetype": "text/x-python",
   "name": "python",
   "nbconvert_exporter": "python",
   "pygments_lexer": "ipython3",
   "version": "3.7.9"
  }
 },
 "nbformat": 4,
 "nbformat_minor": 5
}
